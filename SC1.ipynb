{
 "cells": [
  {
   "cell_type": "code",
   "execution_count": 1,
   "id": "b7c43876-6546-47e6-8693-26b175407df9",
   "metadata": {},
   "outputs": [],
   "source": [
    "import numpy as np\n",
    "import pandas as pd\n",
    "import matplotlib.pyplot as plt"
   ]
  },
  {
   "cell_type": "code",
   "execution_count": 2,
   "id": "6ca3699b-daaf-4097-ac71-41fa82512d8d",
   "metadata": {},
   "outputs": [],
   "source": [
    "df = pd.read_csv(\"supply_chain_data.csv\")"
   ]
  },
  {
   "cell_type": "code",
   "execution_count": 3,
   "id": "d9479b8c-8d2a-40b9-9d2d-cd84a02da59e",
   "metadata": {},
   "outputs": [
    {
     "name": "stdout",
     "output_type": "stream",
     "text": [
      "   Product type    SKU  Price  Availability  Number of products sold  \\\n",
      "0      haircare   SKU0     70            55                      802   \n",
      "1      skincare   SKU1     15            95                      736   \n",
      "2      skincare  SKU10     16            11                      996   \n",
      "3      skincare  SKU11     91            95                      960   \n",
      "4      haircare  SKU12     71            41                      336   \n",
      "..          ...    ...    ...           ...                      ...   \n",
      "95     haircare  SKU95     78            65                      672   \n",
      "96    cosmetics  SKU96     24            29                      324   \n",
      "97     haircare  SKU97      4            56                       62   \n",
      "98     skincare  SKU98     20            43                      913   \n",
      "99     haircare  SKU99     69            17                      627   \n",
      "\n",
      "   Revenue generated Customer demographics  Stock levels  Lead times  \\\n",
      "0            ? 8,662            Non-binary            58           7   \n",
      "1            ? 7,461                Female            53          30   \n",
      "2            ? 2,331            Non-binary            51          13   \n",
      "3            ? 6,100                Female            46          23   \n",
      "4            ? 2,874               Unknown           100          30   \n",
      "..               ...                   ...           ...         ...   \n",
      "95           ? 7,386               Unknown            15          14   \n",
      "96           ? 7,698            Non-binary            67           2   \n",
      "97           ? 4,371                  Male            46          19   \n",
      "98           ? 8,526                Female            53           1   \n",
      "99           ? 9,185               Unknown            55           8   \n",
      "\n",
      "    Order quantities  ...  Location Lead time  Production volumes  \\\n",
      "0                 96  ...    Mumbai        29                 215   \n",
      "1                 37  ...    Mumbai        23                 517   \n",
      "2                 80  ...   Kolkata        18                 830   \n",
      "3                 60  ...   Kolkata        28                 362   \n",
      "4                 85  ...   Kolkata         3                 563   \n",
      "..               ...  ...       ...       ...                 ...   \n",
      "95                26  ...    Mumbai        18                 450   \n",
      "96                32  ...    Mumbai        28                 648   \n",
      "97                 4  ...    Mumbai        10                 535   \n",
      "98                27  ...   Chennai        28                 581   \n",
      "99                59  ...   Chennai        29                 921   \n",
      "\n",
      "   Manufacturing lead time Manufacturing costs  Inspection results  \\\n",
      "0                       29                  46             Pending   \n",
      "1                       30                  34             Pending   \n",
      "2                        5                  97                Pass   \n",
      "3                       11                  28             Pending   \n",
      "4                        3                  32                Fail   \n",
      "..                     ...                 ...                 ...   \n",
      "95                      26                  59             Pending   \n",
      "96                      28                  18             Pending   \n",
      "97                      13                  66                Fail   \n",
      "98                       9                   6             Pending   \n",
      "99                       2                  38                Fail   \n",
      "\n",
      "    Defect rates  Transportation modes   Routes Costs  \n",
      "0              0                  Road  Route B   188  \n",
      "1              5                  Road  Route B   503  \n",
      "2              2                  Road  Route B   806  \n",
      "3              0                   Air  Route A   127  \n",
      "4              2                  Road  Route B   403  \n",
      "..           ...                   ...      ...   ...  \n",
      "95             1                   Air  Route A   779  \n",
      "96             4                  Road  Route A   189  \n",
      "97             3                  Road  Route A   540  \n",
      "98             3                  Rail  Route A   882  \n",
      "99             0                  Rail  Route B   211  \n",
      "\n",
      "[100 rows x 24 columns]\n"
     ]
    }
   ],
   "source": [
    "print(df)"
   ]
  },
  {
   "cell_type": "code",
   "execution_count": 4,
   "id": "fec48aaa-e0bf-476b-bebb-ea0fa7b59767",
   "metadata": {},
   "outputs": [
    {
     "name": "stdout",
     "output_type": "stream",
     "text": [
      "   Product type    SKU  Price  Availability  Number of products sold  \\\n",
      "0      haircare   SKU0     70            55                      802   \n",
      "1      skincare   SKU1     15            95                      736   \n",
      "2      skincare  SKU10     16            11                      996   \n",
      "3      skincare  SKU11     91            95                      960   \n",
      "4      haircare  SKU12     71            41                      336   \n",
      "..          ...    ...    ...           ...                      ...   \n",
      "95     haircare  SKU95     78            65                      672   \n",
      "96    cosmetics  SKU96     24            29                      324   \n",
      "97     haircare  SKU97      4            56                       62   \n",
      "98     skincare  SKU98     20            43                      913   \n",
      "99     haircare  SKU99     69            17                      627   \n",
      "\n",
      "   Revenue generated Customer demographics  Stock levels  Lead times  \\\n",
      "0            ? 8,662            Non-binary            58           7   \n",
      "1            ? 7,461                Female            53          30   \n",
      "2            ? 2,331            Non-binary            51          13   \n",
      "3            ? 6,100                Female            46          23   \n",
      "4            ? 2,874               Unknown           100          30   \n",
      "..               ...                   ...           ...         ...   \n",
      "95           ? 7,386               Unknown            15          14   \n",
      "96           ? 7,698            Non-binary            67           2   \n",
      "97           ? 4,371                  Male            46          19   \n",
      "98           ? 8,526                Female            53           1   \n",
      "99           ? 9,185               Unknown            55           8   \n",
      "\n",
      "    Order quantities  ...  Location Lead time  Production volumes  \\\n",
      "0                 96  ...    Mumbai        29                 215   \n",
      "1                 37  ...    Mumbai        23                 517   \n",
      "2                 80  ...   Kolkata        18                 830   \n",
      "3                 60  ...   Kolkata        28                 362   \n",
      "4                 85  ...   Kolkata         3                 563   \n",
      "..               ...  ...       ...       ...                 ...   \n",
      "95                26  ...    Mumbai        18                 450   \n",
      "96                32  ...    Mumbai        28                 648   \n",
      "97                 4  ...    Mumbai        10                 535   \n",
      "98                27  ...   Chennai        28                 581   \n",
      "99                59  ...   Chennai        29                 921   \n",
      "\n",
      "   Manufacturing lead time Manufacturing costs  Inspection results  \\\n",
      "0                       29                  46             Pending   \n",
      "1                       30                  34             Pending   \n",
      "2                        5                  97                Pass   \n",
      "3                       11                  28             Pending   \n",
      "4                        3                  32                Fail   \n",
      "..                     ...                 ...                 ...   \n",
      "95                      26                  59             Pending   \n",
      "96                      28                  18             Pending   \n",
      "97                      13                  66                Fail   \n",
      "98                       9                   6             Pending   \n",
      "99                       2                  38                Fail   \n",
      "\n",
      "    Defect rates  Transportation modes   Routes Costs  \n",
      "0              0                  Road  Route B   188  \n",
      "1              5                  Road  Route B   503  \n",
      "2              2                  Road  Route B   806  \n",
      "3              0                   Air  Route A   127  \n",
      "4              2                  Road  Route B   403  \n",
      "..           ...                   ...      ...   ...  \n",
      "95             1                   Air  Route A   779  \n",
      "96             4                  Road  Route A   189  \n",
      "97             3                  Road  Route A   540  \n",
      "98             3                  Rail  Route A   882  \n",
      "99             0                  Rail  Route B   211  \n",
      "\n",
      "[100 rows x 24 columns]\n"
     ]
    }
   ],
   "source": [
    "df.describe()\n",
    "print(df)"
   ]
  },
  {
   "cell_type": "code",
   "execution_count": 5,
   "id": "7d01d7db-2e4c-49d5-a72e-c152ddded2dc",
   "metadata": {},
   "outputs": [
    {
     "data": {
      "text/html": [
       "<div>\n",
       "<style scoped>\n",
       "    .dataframe tbody tr th:only-of-type {\n",
       "        vertical-align: middle;\n",
       "    }\n",
       "\n",
       "    .dataframe tbody tr th {\n",
       "        vertical-align: top;\n",
       "    }\n",
       "\n",
       "    .dataframe thead th {\n",
       "        text-align: right;\n",
       "    }\n",
       "</style>\n",
       "<table border=\"1\" class=\"dataframe\">\n",
       "  <thead>\n",
       "    <tr style=\"text-align: right;\">\n",
       "      <th></th>\n",
       "      <th>Product type</th>\n",
       "      <th>SKU</th>\n",
       "      <th>Price</th>\n",
       "      <th>Availability</th>\n",
       "      <th>Number of products sold</th>\n",
       "      <th>Revenue generated</th>\n",
       "      <th>Customer demographics</th>\n",
       "      <th>Stock levels</th>\n",
       "      <th>Lead times</th>\n",
       "      <th>Order quantities</th>\n",
       "      <th>...</th>\n",
       "      <th>Location</th>\n",
       "      <th>Lead time</th>\n",
       "      <th>Production volumes</th>\n",
       "      <th>Manufacturing lead time</th>\n",
       "      <th>Manufacturing costs</th>\n",
       "      <th>Inspection results</th>\n",
       "      <th>Defect rates</th>\n",
       "      <th>Transportation modes</th>\n",
       "      <th>Routes</th>\n",
       "      <th>Costs</th>\n",
       "    </tr>\n",
       "  </thead>\n",
       "  <tbody>\n",
       "    <tr>\n",
       "      <th>0</th>\n",
       "      <td>haircare</td>\n",
       "      <td>SKU0</td>\n",
       "      <td>70</td>\n",
       "      <td>55</td>\n",
       "      <td>802</td>\n",
       "      <td>? 8,662</td>\n",
       "      <td>Non-binary</td>\n",
       "      <td>58</td>\n",
       "      <td>7</td>\n",
       "      <td>96</td>\n",
       "      <td>...</td>\n",
       "      <td>Mumbai</td>\n",
       "      <td>29</td>\n",
       "      <td>215</td>\n",
       "      <td>29</td>\n",
       "      <td>46</td>\n",
       "      <td>Pending</td>\n",
       "      <td>0</td>\n",
       "      <td>Road</td>\n",
       "      <td>Route B</td>\n",
       "      <td>188</td>\n",
       "    </tr>\n",
       "    <tr>\n",
       "      <th>1</th>\n",
       "      <td>skincare</td>\n",
       "      <td>SKU1</td>\n",
       "      <td>15</td>\n",
       "      <td>95</td>\n",
       "      <td>736</td>\n",
       "      <td>? 7,461</td>\n",
       "      <td>Female</td>\n",
       "      <td>53</td>\n",
       "      <td>30</td>\n",
       "      <td>37</td>\n",
       "      <td>...</td>\n",
       "      <td>Mumbai</td>\n",
       "      <td>23</td>\n",
       "      <td>517</td>\n",
       "      <td>30</td>\n",
       "      <td>34</td>\n",
       "      <td>Pending</td>\n",
       "      <td>5</td>\n",
       "      <td>Road</td>\n",
       "      <td>Route B</td>\n",
       "      <td>503</td>\n",
       "    </tr>\n",
       "    <tr>\n",
       "      <th>2</th>\n",
       "      <td>skincare</td>\n",
       "      <td>SKU10</td>\n",
       "      <td>16</td>\n",
       "      <td>11</td>\n",
       "      <td>996</td>\n",
       "      <td>? 2,331</td>\n",
       "      <td>Non-binary</td>\n",
       "      <td>51</td>\n",
       "      <td>13</td>\n",
       "      <td>80</td>\n",
       "      <td>...</td>\n",
       "      <td>Kolkata</td>\n",
       "      <td>18</td>\n",
       "      <td>830</td>\n",
       "      <td>5</td>\n",
       "      <td>97</td>\n",
       "      <td>Pass</td>\n",
       "      <td>2</td>\n",
       "      <td>Road</td>\n",
       "      <td>Route B</td>\n",
       "      <td>806</td>\n",
       "    </tr>\n",
       "    <tr>\n",
       "      <th>3</th>\n",
       "      <td>skincare</td>\n",
       "      <td>SKU11</td>\n",
       "      <td>91</td>\n",
       "      <td>95</td>\n",
       "      <td>960</td>\n",
       "      <td>? 6,100</td>\n",
       "      <td>Female</td>\n",
       "      <td>46</td>\n",
       "      <td>23</td>\n",
       "      <td>60</td>\n",
       "      <td>...</td>\n",
       "      <td>Kolkata</td>\n",
       "      <td>28</td>\n",
       "      <td>362</td>\n",
       "      <td>11</td>\n",
       "      <td>28</td>\n",
       "      <td>Pending</td>\n",
       "      <td>0</td>\n",
       "      <td>Air</td>\n",
       "      <td>Route A</td>\n",
       "      <td>127</td>\n",
       "    </tr>\n",
       "    <tr>\n",
       "      <th>4</th>\n",
       "      <td>haircare</td>\n",
       "      <td>SKU12</td>\n",
       "      <td>71</td>\n",
       "      <td>41</td>\n",
       "      <td>336</td>\n",
       "      <td>? 2,874</td>\n",
       "      <td>Unknown</td>\n",
       "      <td>100</td>\n",
       "      <td>30</td>\n",
       "      <td>85</td>\n",
       "      <td>...</td>\n",
       "      <td>Kolkata</td>\n",
       "      <td>3</td>\n",
       "      <td>563</td>\n",
       "      <td>3</td>\n",
       "      <td>32</td>\n",
       "      <td>Fail</td>\n",
       "      <td>2</td>\n",
       "      <td>Road</td>\n",
       "      <td>Route B</td>\n",
       "      <td>403</td>\n",
       "    </tr>\n",
       "  </tbody>\n",
       "</table>\n",
       "<p>5 rows × 24 columns</p>\n",
       "</div>"
      ],
      "text/plain": [
       "  Product type    SKU  Price  Availability  Number of products sold  \\\n",
       "0     haircare   SKU0     70            55                      802   \n",
       "1     skincare   SKU1     15            95                      736   \n",
       "2     skincare  SKU10     16            11                      996   \n",
       "3     skincare  SKU11     91            95                      960   \n",
       "4     haircare  SKU12     71            41                      336   \n",
       "\n",
       "  Revenue generated Customer demographics  Stock levels  Lead times  \\\n",
       "0           ? 8,662            Non-binary            58           7   \n",
       "1           ? 7,461                Female            53          30   \n",
       "2           ? 2,331            Non-binary            51          13   \n",
       "3           ? 6,100                Female            46          23   \n",
       "4           ? 2,874               Unknown           100          30   \n",
       "\n",
       "   Order quantities  ...  Location Lead time  Production volumes  \\\n",
       "0                96  ...    Mumbai        29                 215   \n",
       "1                37  ...    Mumbai        23                 517   \n",
       "2                80  ...   Kolkata        18                 830   \n",
       "3                60  ...   Kolkata        28                 362   \n",
       "4                85  ...   Kolkata         3                 563   \n",
       "\n",
       "  Manufacturing lead time Manufacturing costs  Inspection results  \\\n",
       "0                      29                  46             Pending   \n",
       "1                      30                  34             Pending   \n",
       "2                       5                  97                Pass   \n",
       "3                      11                  28             Pending   \n",
       "4                       3                  32                Fail   \n",
       "\n",
       "   Defect rates  Transportation modes   Routes Costs  \n",
       "0             0                  Road  Route B   188  \n",
       "1             5                  Road  Route B   503  \n",
       "2             2                  Road  Route B   806  \n",
       "3             0                   Air  Route A   127  \n",
       "4             2                  Road  Route B   403  \n",
       "\n",
       "[5 rows x 24 columns]"
      ]
     },
     "execution_count": 5,
     "metadata": {},
     "output_type": "execute_result"
    }
   ],
   "source": [
    "df.head(5)"
   ]
  },
  {
   "cell_type": "code",
   "execution_count": null,
   "id": "03d77948-9f31-488f-a0a0-e318fb92c224",
   "metadata": {},
   "outputs": [],
   "source": []
  },
  {
   "cell_type": "code",
   "execution_count": 6,
   "id": "4a789bf0-ff16-41e3-9e97-c7b845d4f500",
   "metadata": {},
   "outputs": [
    {
     "name": "stdout",
     "output_type": "stream",
     "text": [
      "<class 'pandas.core.frame.DataFrame'>\n",
      "RangeIndex: 100 entries, 0 to 99\n",
      "Data columns (total 24 columns):\n",
      " #   Column                   Non-Null Count  Dtype \n",
      "---  ------                   --------------  ----- \n",
      " 0   Product type             100 non-null    object\n",
      " 1   SKU                      100 non-null    object\n",
      " 2   Price                    100 non-null    int64 \n",
      " 3   Availability             100 non-null    int64 \n",
      " 4   Number of products sold  100 non-null    int64 \n",
      " 5   Revenue generated        100 non-null    object\n",
      " 6   Customer demographics    100 non-null    object\n",
      " 7   Stock levels             100 non-null    int64 \n",
      " 8   Lead times               100 non-null    int64 \n",
      " 9   Order quantities         100 non-null    int64 \n",
      " 10  Shipping times           100 non-null    int64 \n",
      " 11  Shipping carriers        100 non-null    object\n",
      " 12  Shipping costs           100 non-null    int64 \n",
      " 13  Supplier name            100 non-null    object\n",
      " 14  Location                 100 non-null    object\n",
      " 15  Lead time                100 non-null    int64 \n",
      " 16  Production volumes       100 non-null    int64 \n",
      " 17  Manufacturing lead time  100 non-null    int64 \n",
      " 18  Manufacturing costs      100 non-null    int64 \n",
      " 19  Inspection results       100 non-null    object\n",
      " 20  Defect rates             100 non-null    int64 \n",
      " 21  Transportation modes     100 non-null    object\n",
      " 22  Routes                   100 non-null    object\n",
      " 23  Costs                    100 non-null    int64 \n",
      "dtypes: int64(14), object(10)\n",
      "memory usage: 18.9+ KB\n"
     ]
    }
   ],
   "source": [
    "df.info()"
   ]
  },
  {
   "cell_type": "code",
   "execution_count": 7,
   "id": "dd43e3c1-8499-4ad4-a604-26895728dd03",
   "metadata": {},
   "outputs": [],
   "source": [
    "df.columns = df.columns.str.replace(\" \", \"_\")"
   ]
  },
  {
   "cell_type": "code",
   "execution_count": 8,
   "id": "626c5dcd-9d9a-429f-bb6b-8009ce35ca79",
   "metadata": {},
   "outputs": [
    {
     "name": "stdout",
     "output_type": "stream",
     "text": [
      "   Product_type    SKU  Price  Availability  Number_of_products_sold  \\\n",
      "0      haircare   SKU0     70            55                      802   \n",
      "1      skincare   SKU1     15            95                      736   \n",
      "2      skincare  SKU10     16            11                      996   \n",
      "3      skincare  SKU11     91            95                      960   \n",
      "4      haircare  SKU12     71            41                      336   \n",
      "..          ...    ...    ...           ...                      ...   \n",
      "95     haircare  SKU95     78            65                      672   \n",
      "96    cosmetics  SKU96     24            29                      324   \n",
      "97     haircare  SKU97      4            56                       62   \n",
      "98     skincare  SKU98     20            43                      913   \n",
      "99     haircare  SKU99     69            17                      627   \n",
      "\n",
      "   Revenue_generated Customer_demographics  Stock_levels  Lead_times  \\\n",
      "0            ? 8,662            Non-binary            58           7   \n",
      "1            ? 7,461                Female            53          30   \n",
      "2            ? 2,331            Non-binary            51          13   \n",
      "3            ? 6,100                Female            46          23   \n",
      "4            ? 2,874               Unknown           100          30   \n",
      "..               ...                   ...           ...         ...   \n",
      "95           ? 7,386               Unknown            15          14   \n",
      "96           ? 7,698            Non-binary            67           2   \n",
      "97           ? 4,371                  Male            46          19   \n",
      "98           ? 8,526                Female            53           1   \n",
      "99           ? 9,185               Unknown            55           8   \n",
      "\n",
      "    Order_quantities  ...  Location Lead_time  Production_volumes  \\\n",
      "0                 96  ...    Mumbai        29                 215   \n",
      "1                 37  ...    Mumbai        23                 517   \n",
      "2                 80  ...   Kolkata        18                 830   \n",
      "3                 60  ...   Kolkata        28                 362   \n",
      "4                 85  ...   Kolkata         3                 563   \n",
      "..               ...  ...       ...       ...                 ...   \n",
      "95                26  ...    Mumbai        18                 450   \n",
      "96                32  ...    Mumbai        28                 648   \n",
      "97                 4  ...    Mumbai        10                 535   \n",
      "98                27  ...   Chennai        28                 581   \n",
      "99                59  ...   Chennai        29                 921   \n",
      "\n",
      "   Manufacturing_lead_time Manufacturing_costs  Inspection_results  \\\n",
      "0                       29                  46             Pending   \n",
      "1                       30                  34             Pending   \n",
      "2                        5                  97                Pass   \n",
      "3                       11                  28             Pending   \n",
      "4                        3                  32                Fail   \n",
      "..                     ...                 ...                 ...   \n",
      "95                      26                  59             Pending   \n",
      "96                      28                  18             Pending   \n",
      "97                      13                  66                Fail   \n",
      "98                       9                   6             Pending   \n",
      "99                       2                  38                Fail   \n",
      "\n",
      "    Defect_rates  Transportation_modes   Routes Costs  \n",
      "0              0                  Road  Route B   188  \n",
      "1              5                  Road  Route B   503  \n",
      "2              2                  Road  Route B   806  \n",
      "3              0                   Air  Route A   127  \n",
      "4              2                  Road  Route B   403  \n",
      "..           ...                   ...      ...   ...  \n",
      "95             1                   Air  Route A   779  \n",
      "96             4                  Road  Route A   189  \n",
      "97             3                  Road  Route A   540  \n",
      "98             3                  Rail  Route A   882  \n",
      "99             0                  Rail  Route B   211  \n",
      "\n",
      "[100 rows x 24 columns]\n"
     ]
    }
   ],
   "source": [
    "print(df)"
   ]
  },
  {
   "cell_type": "markdown",
   "id": "b046c67f-1f89-4f1b-a3fd-90b0d95150f6",
   "metadata": {},
   "source": [
    "## Product Information\n",
    "\n",
    "* **Product Type**: Categorization of products based on their characteristics, features, or functions.\n",
    "* **SKU**: A unique identifier for each product or product variation in inventory.\n",
    "* **Price**: The cost of a product or service to the customer.\n",
    "* **Availability**: The status of a product's stock level, indicating whether it's in stock or out of stock.\n",
    "* **Number of products sold**: The quantity of products sold within a specific time period.\n",
    "* **Revenue generated**: The total income earned from sales of products or services.\n",
    "* **Customer demographics**: Data about customers, including age, gender, location, and other characteristics.\n",
    "* **Stock levels**: The current quantity of products in inventory.\n",
    "* **Lead times**: The time it takes to receive inventory or fulfill an order after it's been placed.\n",
    "* **Order quantities**: The number of products ordered by customers or stocked by the supplier.\n",
    "* **Shipping times**: The time it takes for products to be delivered to customers.\n",
    "* **Shipping carriers**: The companies or services used to transport products to customers.\n",
    "* **Shipping costs**: The expenses associated with transporting products to customers.\n",
    "* **Supplier name**: The identity of the company or entity providing products or services.\n",
    "* **Location**: The geographic location of suppliers, warehouses, or distribution centers.\n",
    "* **Lead time (supplier)**: The time it takes for a supplier to deliver products after receiving an order.\n",
    "* **Production volumes**: The quantity of products manufactured or produced within a specific time period.\n",
    "* **Manufacturing lead time**: The time it takes to produce a product from start to finish.\n",
    "* **Manufacturing costs**: The expenses associated with producing products, including labor, materials, and overhead.\n",
    "* **Inspection results**: The outcome of quality control checks on products, indicating whether they meet standards.\n",
    "* **Defect rates**: The percentage of products that fail to meet quality standards.\n",
    "* **Transportation modes**: The methods used to transport products, such as air, land, or sea.\n",
    "* **Routes**: The specific paths or routes used to transport products from one location to another.\n",
    "* **Costs (transportation)**: The expenses associated with transporting products, including fuel, labor, and equipment."
   ]
  },
  {
   "cell_type": "code",
   "execution_count": 9,
   "id": "eca9c82b-e8bb-41bf-9deb-e8341ca6aa1f",
   "metadata": {},
   "outputs": [],
   "source": [
    "# use simple visulization such as line, bar, histogram, and other simple thing "
   ]
  },
  {
   "cell_type": "code",
   "execution_count": 10,
   "id": "527763a9-dc6a-45c2-9c41-765601ecd7aa",
   "metadata": {},
   "outputs": [],
   "source": [
    "# use new statistical learned elements for numpy and pandas"
   ]
  },
  {
   "cell_type": "code",
   "execution_count": 11,
   "id": "dea3659c-6b5f-45d4-85a3-ca983e1f44a9",
   "metadata": {},
   "outputs": [
    {
     "data": {
      "text/plain": [
       "Product_type               0\n",
       "SKU                        0\n",
       "Price                      0\n",
       "Availability               0\n",
       "Number_of_products_sold    0\n",
       "Revenue_generated          0\n",
       "Customer_demographics      0\n",
       "Stock_levels               0\n",
       "Lead_times                 0\n",
       "Order_quantities           0\n",
       "Shipping_times             0\n",
       "Shipping_carriers          0\n",
       "Shipping_costs             0\n",
       "Supplier_name              0\n",
       "Location                   0\n",
       "Lead_time                  0\n",
       "Production_volumes         0\n",
       "Manufacturing_lead_time    0\n",
       "Manufacturing_costs        0\n",
       "Inspection_results         0\n",
       "Defect_rates               0\n",
       "Transportation_modes       0\n",
       "Routes                     0\n",
       "Costs                      0\n",
       "dtype: int64"
      ]
     },
     "execution_count": 11,
     "metadata": {},
     "output_type": "execute_result"
    }
   ],
   "source": [
    "# Check for missing values\n",
    "df.isnull().sum()\n"
   ]
  },
  {
   "cell_type": "markdown",
   "id": "0e1c3c1b-c1ee-40e3-8749-4c7c641174b8",
   "metadata": {},
   "source": [
    "### HISTOGRAM\n"
   ]
  },
  {
   "cell_type": "code",
   "execution_count": 12,
   "id": "17f58a3d-3148-4473-b462-9a55dcc0ec80",
   "metadata": {},
   "outputs": [
    {
     "data": {
      "image/png": "[encoded data removed]",
      "text/plain": [
       "<Figure size 640x480 with 1 Axes>"
      ]
     },
     "metadata": {},
     "output_type": "display_data"
    }
   ],
   "source": [
    "modes = df['Transportation_modes'].unique()\n",
    "\n",
    "for mode in modes:\n",
    "    subset = df[df['Transportation_modes'] == mode]\n",
    "    plt.hist(subset['Routes'], alpha=0.5, label=mode)\n",
    "\n",
    "# Add title and labels\n",
    "plt.title('Histogram of Routes by Transportation Mode')\n",
    "plt.xlabel('Routes')\n",
    "plt.ylabel('Frequency')\n",
    "\n",
    "# Add a legend\n",
    "plt.legend()\n",
    "\n",
    "# Show the plot\n",
    "plt.show()"
   ]
  },
  {
   "cell_type": "markdown",
   "id": "b1c92597-7a43-45ac-8200-df99d34c8f4f",
   "metadata": {},
   "source": [
    "## Bar Graph"
   ]
  },
  {
   "cell_type": "code",
   "execution_count": 13,
   "id": "8d2adfef-8a73-4c7e-b09a-ceeade73a833",
   "metadata": {},
   "outputs": [
    {
     "data": {
      "image/png": "[encoded data removed]",
      "text/plain": [
       "<Figure size 640x480 with 1 Axes>"
      ]
     },
     "metadata": {},
     "output_type": "display_data"
    }
   ],
   "source": [
    "plt.bar(df.Transportation_modes, df.Shipping_times)\n",
    "\n",
    "plt.xlabel('Transportaion')\n",
    "plt.ylabel('Time')\n",
    "plt.show()\n",
    "         "
   ]
  },
  {
   "cell_type": "markdown",
   "id": "8a3e4042-aeda-4930-b801-e617b4da3764",
   "metadata": {},
   "source": [
    "## Pie Graph"
   ]
  },
  {
   "cell_type": "code",
   "execution_count": 14,
   "id": "916025a6-3af1-40f6-b3ac-8394bd723776",
   "metadata": {},
   "outputs": [
    {
     "data": {
      "text/plain": [
       "Text(0.5, 1.0, 'Shipping Costs by Transportation Mode')"
      ]
     },
     "execution_count": 14,
     "metadata": {},
     "output_type": "execute_result"
    },
    {
     "data": {
      "image/png": "[encoded data removed]",
      "text/plain": [
       "<Figure size 800x600 with 1 Axes>"
      ]
     },
     "metadata": {},
     "output_type": "display_data"
    }
   ],
   "source": [
    "# group the data by transportation modes and calculate the total shipping costs for each mode\n",
    "transportation_costs = df.groupby('Transportation_modes')['Shipping_costs'].sum()\n",
    "\n",
    "# plot a pie chart of the shipping costs by transportation mode\n",
    "plt.figure(figsize=(8,6))\n",
    "plt.pie(transportation_costs, labels=transportation_costs.index, autopct='%1.1f%%')\n",
    "plt.title('Shipping Costs by Transportation Mode')"
   ]
  },
  {
   "cell_type": "code",
   "execution_count": 15,
   "id": "4f028079-ef37-4e20-8a04-56c2419f390a",
   "metadata": {},
   "outputs": [
    {
     "data": {
      "image/png": "[encoded data removed]",
      "text/plain": [
       "<Figure size 600x1200 with 1 Axes>"
      ]
     },
     "metadata": {},
     "output_type": "display_data"
    }
   ],
   "source": [
    "# Type of buyers in a visulization.\n",
    "Customer_type = df.groupby('Customer_demographics')['Number_of_products_sold'].sum()\n",
    "plt.figure(figsize=(6,12))\n",
    "plt.pie(Customer_type, labels= Customer_type.index, autopct='%1.0f%%')\n",
    "plt.show()"
   ]
  },
  {
   "cell_type": "markdown",
   "id": "6242ea95-d113-4270-b3c3-8894c330d8ca",
   "metadata": {},
   "source": [
    "## NOT CORRECT CALCULATION BUT AS A PRACTICE WORK "
   ]
  },
  {
   "cell_type": "markdown",
   "id": "c76a457a-804e-47a0-8fd3-3a7e94d921b0",
   "metadata": {},
   "source": [
    " * **SOME CALCULATION WORK WITH USING NUMPY AND PANDAS** "
   ]
  },
  {
   "cell_type": "code",
   "execution_count": 16,
   "id": "6b720d5d-f447-4c4d-8e76-d7ecf2bab4f9",
   "metadata": {},
   "outputs": [
    {
     "name": "stdout",
     "output_type": "stream",
     "text": [
      "0     56140\n",
      "1     11040\n",
      "2     15936\n",
      "3     87360\n",
      "4     23856\n",
      "      ...  \n",
      "95    52416\n",
      "96     7776\n",
      "97      248\n",
      "98    18260\n",
      "99    43263\n",
      "Name: TOTAL_PRODUCT_VALUE, Length: 100, dtype: int64\n"
     ]
    }
   ],
   "source": [
    "df['TOTAL_PRODUCT_VALUE'] = df['Price'] * df['Number_of_products_sold']\n",
    "print(df['TOTAL_PRODUCT_VALUE'])"
   ]
  },
  {
   "cell_type": "markdown",
   "id": "1b7d5744-ed2b-45dd-8ea1-69adc399c1c7",
   "metadata": {},
   "source": [
    "* **Costs after removing defect costs**"
   ]
  },
  {
   "cell_type": "code",
   "execution_count": 17,
   "id": "dcd2d4f6-823b-48a6-87a7-457d5d6c76cb",
   "metadata": {},
   "outputs": [
    {
     "name": "stdout",
     "output_type": "stream",
     "text": [
      "0      49\n",
      "1      39\n",
      "2     104\n",
      "3      33\n",
      "4      31\n",
      "     ... \n",
      "95     67\n",
      "96     19\n",
      "97     71\n",
      "98      4\n",
      "99     39\n",
      "Name: CostsAfter, Length: 100, dtype: int64\n"
     ]
    }
   ],
   "source": [
    "df['CostsAfter']= df['Shipping_costs'] + df['Manufacturing_costs'] - df['Defect_rates']\n",
    "print(df['CostsAfter'])"
   ]
  },
  {
   "cell_type": "markdown",
   "id": "1786b36f-1449-4e8f-b2ca-8be978cff922",
   "metadata": {},
   "source": [
    "* **Unsold Product**"
   ]
  },
  {
   "cell_type": "code",
   "execution_count": 18,
   "id": "cddf9a3b-6567-4507-84ba-fca2e8ee0ce4",
   "metadata": {},
   "outputs": [
    {
     "name": "stdout",
     "output_type": "stream",
     "text": [
      "0     3850\n",
      "1     1425\n",
      "2      176\n",
      "3     8645\n",
      "4     2911\n",
      "      ... \n",
      "95    5070\n",
      "96     696\n",
      "97     224\n",
      "98     860\n",
      "99    1173\n",
      "Name: UnsoldProduct, Length: 100, dtype: int64\n"
     ]
    }
   ],
   "source": [
    "df['UnsoldProduct'] = df['Availability'] * df['Price']\n",
    "print(df['UnsoldProduct'])"
   ]
  },
  {
   "cell_type": "code",
   "execution_count": 19,
   "id": "c7c1201d-82e8-4681-9697-c3ce565326fe",
   "metadata": {},
   "outputs": [],
   "source": [
    "import seaborn as sns"
   ]
  },
  {
   "cell_type": "code",
   "execution_count": 20,
   "id": "f81853a4-1522-4b2b-924c-852a3b7ecaf4",
   "metadata": {},
   "outputs": [
    {
     "data": {
      "text/plain": [
       "<Axes: ylabel='Costs'>"
      ]
     },
     "execution_count": 20,
     "metadata": {},
     "output_type": "execute_result"
    },
    {
     "data": {
      "image/png": "[encoded data removed]",
      "text/plain": [
       "<Figure size 640x480 with 1 Axes>"
      ]
     },
     "metadata": {},
     "output_type": "display_data"
    }
   ],
   "source": [
    "sns.boxplot(df['Costs'])"
   ]
  },
  {
   "cell_type": "code",
   "execution_count": 21,
   "id": "a49bee8a-676c-4240-8aaf-438e625a7fc4",
   "metadata": {},
   "outputs": [],
   "source": [
    "## learn how to create multiple kind of the boxplot."
   ]
  },
  {
   "cell_type": "code",
   "execution_count": null,
   "id": "c3e2abae-f314-481b-b5ee-3641156df90d",
   "metadata": {},
   "outputs": [],
   "source": []
  }
 ],
 "metadata": {
  "kernelspec": {
   "display_name": "Python 3 (ipykernel)",
   "language": "python",
   "name": "python3"
  },
  "language_info": {
   "codemirror_mode": {
    "name": "ipython",
    "version": 3
   },
   "file_extension": ".py",
   "mimetype": "text/x-python",
   "name": "python",
   "nbconvert_exporter": "python",
   "pygments_lexer": "ipython3",
   "version": "3.12.1"
  }
 },
 "nbformat": 4,
 "nbformat_minor": 5
}
